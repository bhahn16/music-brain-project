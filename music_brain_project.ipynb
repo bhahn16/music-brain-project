{
 "cells": [
  {
   "cell_type": "markdown",
   "metadata": {},
   "source": [
    "# Music Brain Project\n",
    "\n",
    "*Can we guess how you will react to music?*\n",
    "\n",
    "\n",
    "In the Spring of 2019, me (Ted Lewitt), Ben Hahn and Jack Elliott partnered with the Brain and Creativity Institute at USC to use deep learning methods to predict patients response to instrumental music.\n",
    "\n",
    "### The Dataset\n",
    "\n",
    "36 Patients went into a MRI and listened to 5 minute long instrumental songs that were either meant to be uplifting or sad. The MRI recorded their brain activations and the patients used a sliding scale to represent how they felt while listening to the music. \n",
    "\n",
    "![fd](Images/glass_brain.png \"A sample MRI image\")\n",
    "\n",
    "### Our Hypothesis\n",
    "\n",
    "We can use a recurrent nueral network to predict how a patient felt at a moment in time, based off the MRI data from that moment. \n"
   ]
  },
  {
   "cell_type": "code",
   "execution_count": 1,
   "metadata": {},
   "outputs": [
    {
     "name": "stderr",
     "output_type": "stream",
     "text": [
      "Using TensorFlow backend.\n"
     ]
    }
   ],
   "source": [
    "\n",
    "import os\n",
    "import nilearn\n",
    "import numpy as np\n",
    "\n",
    "import keras\n",
    "from keras import metrics\n",
    "from keras.models import Sequential\n",
    "from keras.layers import Activation,Dense\n",
    "from keras.layers.recurrent import LSTM\n",
    "\n",
    "from sklearn.model_selection import train_test_split"
   ]
  },
  {
   "cell_type": "markdown",
   "metadata": {},
   "source": [
    "## Preprocessing\n",
    "\n",
    "**Data Types** <br>\n",
    "\n",
    "+ The MRI data file is known as fMRI and is stored in a NIFTI file (suffix .nii). It is a time series of MRI data, with each time step being a 3D volumetric snapshot of brain activations.\n",
    "\n",
    "+ The slider data was a text file with timestamps and activations, on a scale of 0 to 127, with 127 being very happy and 0 being very sad.\n",
    "\n",
    "### Preprocessing the Slider Data\n",
    "\n",
    "**Initial Steps**\n",
    "\n",
    "- The fMRI data was at 1 Hz but the slider data was at 30 Hz, so we had to down-sample the slider data to match the fMRI data.\n",
    "- We scaled the slider data to be on a scale of (0,1) from (0,127).\n",
    "\n",
    "- Human brains take an average of 6 seconds to process the music, so we need to add a 6 second delay between the slider data and the MRI image.\n",
    "\n",
    "**Bucketing the Data & Switching from Regression to Classification** <br>\n",
    "\n",
    "We were having issues with regressing the data (see our conculsions section for more info) so we decided to switch to a classsification problem using data bucketing.\n",
    "![Bucket](Images/binning.png \"An example of bucketing data\")\n",
    "\n",
    "Data bucketing transforms a continous variable (our slider data) into a discrete variable by taking all the continous data that lies in a certain area and lumping it all together in one bucket. In our example, all the continous slider data above 67.5 can be bucketed into the **Happy** bucket and all the data below 67.5 is bucketed into the **Sad** bucket. This allows us to use one hot encoding to represent the different classes, depending on how many buckets we decide to use."
   ]
  },
  {
   "cell_type": "code",
   "execution_count": 2,
   "metadata": {},
   "outputs": [],
   "source": [
    "NUM_BUCKETS = 4\n",
    "DELAY = 6\n",
    "\n",
    "def get_raw_slider_vals(data_file):\n",
    "    data= load_slider_data(data_file)\n",
    "    times = load_time_data(data_file)\n",
    "    return times,data\n",
    "\n",
    "def load_time_data(file):\n",
    "    with open(file,'r') as fileobj:\n",
    "        times = get_times(fileobj)\n",
    "        times = np.array(times).astype(np.float)\n",
    "        return times\n",
    "\n",
    "def preprocess_slider_data(data_file):\n",
    "    data = load_slider_data(data_file)\n",
    "    label_array = down_sample(data, NUM_BUCKETS, DELAY)\n",
    "    label_array = np.array(label_array)\n",
    "    return label_array\n",
    "  \n",
    "def load_slider_data(file):\n",
    "    with open(file,'r') as fileobj:\n",
    "        values = get_vals(fileobj)\n",
    "        values = np.array(values).astype(np.float)\n",
    "        return values\n",
    "def get_times(fobj):\n",
    "    '''\n",
    "    Read first line of text which contains the slider value\n",
    "    '''\n",
    "    indiv_lines = fobj.read().split(\"\\n\")\n",
    "    values = []\n",
    "    for i in range(len(indiv_lines)-1):\n",
    "        values.append(indiv_lines[i].split(\"\\t\")[0])\n",
    "    return values\n",
    "def get_vals(fobj):\n",
    "    '''\n",
    "    Read second line of text which contains the slider value\n",
    "    '''\n",
    "    indiv_lines = fobj.read().split(\"\\n\")\n",
    "    values = []\n",
    "    for i in range(len(indiv_lines)-1):\n",
    "        values.append(indiv_lines[i].split(\"\\t\")[1])\n",
    "    return values\n",
    "\n",
    "def down_sample(values, num_buckets, delay):\n",
    "    '''\n",
    "    Downsamples from 30Hz to 1Hz and Scales them from [0,127] to [0,1]\n",
    "    Then creates a one hot encoding \n",
    "    '''\n",
    "    maxValue = 127\n",
    "    labels=[]\n",
    "    for i in range(20,515-delay): \n",
    "        #Get the average of the 30 slider points each second\n",
    "        sec_arr=np.array(values[30*i:30*i+29]).astype(np.float)\n",
    "        #Scale the values to be between 0 and 1\n",
    "        sec_avg=np.average(sec_arr)/maxValue\n",
    "        #Create One Hot Encoding Vector\n",
    "        one_hot = bucket(sec_avg, num_buckets)\n",
    "    \n",
    "        labels.append(one_hot)\n",
    "        \n",
    "    return labels\n",
    "\n",
    "def bucket(value,num_buckets):\n",
    "    '''\n",
    "    Buckets the value into one of the #num_buckets\n",
    "    '''\n",
    "    #Create Empty Vector\n",
    "    one_hot = [0]* num_buckets\n",
    "\n",
    "    #Calculate which bucket the current datapoint should fit in\n",
    "    index = int(np.floor(value*num_buckets))\n",
    "    \n",
    "    #Edge case of max value which would give out of bounds error\n",
    "    if value == 1:\n",
    "        index = num_buckets - 1\n",
    "    \n",
    "    #Update the vector\n",
    "    one_hot[index] = 1\n",
    "    \n",
    "    return one_hot"
   ]
  },
  {
   "cell_type": "markdown",
   "metadata": {},
   "source": [
    "**Let's Take a Look at One of the Files**\n",
    "\n",
    "The first thing to notice is the first 20 seconds and last 5 seconds of the data are zeros and will skew the data, so we will discount them in the actual preprocessing.\n",
    "\n",
    "The average for this run is 88, (and skewed by the zeros) so we can tell that is was likely a more happy piece of music."
   ]
  },
  {
   "cell_type": "code",
   "execution_count": 3,
   "metadata": {},
   "outputs": [
    {
     "name": "stdout",
     "output_type": "stream",
     "text": [
      "Some descriptive statistics of the data:\n",
      "Total Observations: 15446\n",
      "Min: 0.0 \n",
      "Max: 127.0\n",
      "Average of the Data: 87.218503\n",
      "Variance of the Data: 558.778475\n"
     ]
    },
    {
     "data": {
      "image/png": "[encoded data removed]",
      "text/plain": [
       "<Figure size 432x288 with 1 Axes>"
      ]
     },
     "metadata": {
      "needs_background": "light"
     },
     "output_type": "display_data"
    }
   ],
   "source": [
    "from scipy.stats import describe\n",
    "import matplotlib.pyplot as plt\n",
    "%matplotlib inline\n",
    "\n",
    "filename = \"txt_files/patient_01.txt\"\n",
    "times,data = get_raw_slider_vals(filename)\n",
    "\n",
    "num_obs,min_max, mean,var,_,_ = describe(data)\n",
    "print(\"Some descriptive statistics of the data:\")\n",
    "print(\"Total Observations: %d\" % num_obs)\n",
    "print(\"Min: %.1f \\nMax: %.1f\" % (min_max[0],min_max[1]))\n",
    "print(\"Average of the Data: %f\" % mean)\n",
    "print(\"Variance of the Data: %f\"% var)\n",
    "\n",
    "plt.plot(times, data)\n",
    "plt.title(\"Slider Data for Patient 1\")\n",
    "plt.xlabel(\"Time (s)\")\n",
    "plt.ylabel(\"Slider Value\")\n",
    "plt.show()"
   ]
  },
  {
   "cell_type": "markdown",
   "metadata": {},
   "source": [
    "### Preprocessing the MRI Data\n",
    "We used the niLearn package to transform our 4D fMRI (time steps, 3 spatial dimensions) to a 2D time series (time steps,\n",
    "features). The initial shape of the input tensor was (495,100,90,100) and we wanted it to be (495, #Features) so it could be fed into our Tensorflow LSTM.\n",
    "\n",
    "NiLearn has a class called NiftiMasker that does exactly that, transforming our data into an (495,29007) shaped time series. (This number of features is incedibly high we know, see our conclusions for more). <br>\n",
    "![dg](Images/masking1.jpg \"Illustration of Nifti Masker\")\n"
   ]
  },
  {
   "cell_type": "code",
   "execution_count": 4,
   "metadata": {},
   "outputs": [],
   "source": [
    "from nilearn.input_data import NiftiMasker\n",
    "def create_time_series(mri_file):\n",
    "    nifti_masker = NiftiMasker(standardize=True, mask_strategy='template')\n",
    "    indexer = [i for i in range(0,495-DELAY)]\n",
    "    #Split the fMRI data into 495 consecutive images\n",
    "    result=nilearn.image.index_img(mri_file,indexer)\n",
    "    nifti_masker.fit(result)\n",
    "    masked=nifti_masker.transform(result)\n",
    "    masked=np.array(masked)\n",
    "    return masked\n"
   ]
  },
  {
   "cell_type": "code",
   "execution_count": 5,
   "metadata": {},
   "outputs": [
    {
     "name": "stdout",
     "output_type": "stream",
     "text": [
      "(489, 229007)\n"
     ]
    }
   ],
   "source": [
    "filename = \"mri_files/patient_32.nii\"\n",
    "\n",
    "ts = create_time_series(filename)\n",
    "print(ts.shape)"
   ]
  },
  {
   "cell_type": "markdown",
   "metadata": {},
   "source": [
    "To keep track of which label data corresponded to which MRI data, the patients given an ID, so we load the data based on the ID.\n",
    "This step does all the preprocessing and will take a long time."
   ]
  },
  {
   "cell_type": "code",
   "execution_count": 6,
   "metadata": {},
   "outputs": [
    {
     "name": "stderr",
     "output_type": "stream",
     "text": [
      " 15%|█▌        | 6/39 [02:02<11:16, 20.51s/it]"
     ]
    },
    {
     "name": "stdout",
     "output_type": "stream",
     "text": [
      "Incomplete Data for Patient 07\n"
     ]
    },
    {
     "name": "stderr",
     "output_type": "stream",
     "text": [
      " 44%|████▎     | 17/39 [05:14<06:36, 18.03s/it]"
     ]
    },
    {
     "name": "stdout",
     "output_type": "stream",
     "text": [
      "Incomplete Data for Patient 18\n"
     ]
    },
    {
     "name": "stderr",
     "output_type": "stream",
     "text": [
      " 69%|██████▉   | 27/39 [07:55<03:33, 17.77s/it]"
     ]
    },
    {
     "name": "stdout",
     "output_type": "stream",
     "text": [
      "Incomplete Data for Patient 28\n"
     ]
    },
    {
     "name": "stderr",
     "output_type": "stream",
     "text": [
      "\r",
      " 74%|███████▍  | 29/39 [08:13<02:31, 15.12s/it]"
     ]
    },
    {
     "name": "stdout",
     "output_type": "stream",
     "text": [
      "Incomplete Data for Patient 30\n"
     ]
    },
    {
     "name": "stderr",
     "output_type": "stream",
     "text": [
      "100%|██████████| 39/39 [10:54<00:00, 16.78s/it]\n"
     ]
    }
   ],
   "source": [
    "from tqdm import tqdm\n",
    "txt_files_dir = \"txt_files/\"\n",
    "mri_files_dir = \"mri_files/\"\n",
    "nii_array = []\n",
    "label_array = []\n",
    "for count in tqdm(range(1,40)):\n",
    "    if count<10:\n",
    "        count = str(0)+str(count)\n",
    "        \n",
    "    niifile = \"patient_\"+str(count)+\".nii\"\n",
    "    fullNii = os.path.join(mri_files_dir,niifile)\n",
    "    \n",
    "    labelfile = \"patient_\"+str(count)+\".txt\"\n",
    "    fullfile = os.path.join(txt_files_dir,labelfile)\n",
    "\n",
    "    try:\n",
    "        ts = create_time_series(fullNii)        \n",
    "        label = preprocess_slider_data(fullfile)\n",
    "        nii_array.append(ts)\n",
    "        label_array.append(label)\n",
    "    except ValueError:\n",
    "        print(\"Incomplete Data for Patient %s\" % count)\n",
    "                         \n",
    "\n",
    "nii_array=np.array(nii_array)\n",
    "label_array=np.array(label_array)\n",
    "\n",
    "assert(len(nii_array) == len(label_array))"
   ]
  },
  {
   "cell_type": "markdown",
   "metadata": {},
   "source": [
    "### Hyperparameters\n",
    "\n",
    "These are the optimal hyperparameters we found for our model.\n",
    "See PostProcessing for an discussion on other hyperparameters we explored for our model"
   ]
  },
  {
   "cell_type": "code",
   "execution_count": 10,
   "metadata": {},
   "outputs": [],
   "source": [
    "nii_shape = nii_array[0].shape\n",
    "EPOCHS = 4\n",
    "BATCH_SIZE = 5\n",
    "if NUM_BUCKETS == 2: \n",
    "    LOSS = 'binary_cross_entropy'\n",
    "    METRICS = [metrics.binary_accuracy]\n",
    "else:\n",
    "    LOSS = 'categorical_crossentropy'\n",
    "    METRICS = [metrics.categorical_accuracy]\n",
    "OPTIMIZER = 'Adam'\n",
    "INPUT_SHAPE = nii_shape\n",
    "DROPOUT = .15"
   ]
  },
  {
   "cell_type": "code",
   "execution_count": 11,
   "metadata": {},
   "outputs": [
    {
     "name": "stdout",
     "output_type": "stream",
     "text": [
      "(26, 489, 4)\n",
      "(26, 489, 229007)\n"
     ]
    }
   ],
   "source": [
    "totalFiles=len(label_array)\n",
    "nii_shape = nii_array[0].shape\n",
    "# Split the Data Into A Train and Test Subsets \n",
    "train_labels, test_labels, train_nii, test_nii = train_test_split(label_array, nii_array)\n",
    "\n",
    "train_labels = np.array(train_labels)\n",
    "train_nii = np.array(train_nii)\n",
    "test_labels = np.array(test_labels)\n",
    "test_nii = np.array(test_nii)\n",
    "\n",
    "print(train_labels.shape)\n",
    "print(train_nii.shape)"
   ]
  },
  {
   "attachments": {},
   "cell_type": "markdown",
   "metadata": {},
   "source": [
    "## Training\n",
    "\n",
    "We decided to use the Keras implementation of the Long Short-Term Memory RNN becuase of the time series nature of the data. Also the human brain has the memory of the whole song when forming emotions, so we needed a model that also had this capability. The strength of the LSTM to capture both short term trends and keep a longer memory suited our needs well.\n",
    "\n",
    "To predict a bucket over all 495 time steps at the same time we added the TimeDistributed Dense Layer. This means the model's output was a (495,NUM_BUCKETS) matrix with one hot encoding of the predicted bucket.\n",
    "\n",
    "![LSTM_DIAGRAM](Images/lstm_diagram.png \"Model Diagram\")"
   ]
  },
  {
   "cell_type": "code",
   "execution_count": 12,
   "metadata": {},
   "outputs": [
    {
     "name": "stdout",
     "output_type": "stream",
     "text": [
      "Model: \"sequential_1\"\n",
      "_________________________________________________________________\n",
      "Layer (type)                 Output Shape              Param #   \n",
      "=================================================================\n",
      "lstm_1 (LSTM)                (None, 489, 489)          448896132 \n",
      "_________________________________________________________________\n",
      "time_distributed_1 (TimeDist (None, 489, 4)            1960      \n",
      "=================================================================\n",
      "Total params: 448,898,092\n",
      "Trainable params: 448,898,092\n",
      "Non-trainable params: 0\n",
      "_________________________________________________________________\n",
      "None\n"
     ]
    }
   ],
   "source": [
    "#Model Initilization\n",
    "model=Sequential()\n",
    "\n",
    "model.add(LSTM(units=nii_shape[0], activation='tanh', dropout=DROPOUT, input_shape=INPUT_SHAPE, return_sequences=True))\n",
    "\n",
    "model.add(keras.layers.TimeDistributed(Dense(NUM_BUCKETS,activation='softmax')))\n",
    "\n",
    "print(model.summary())"
   ]
  },
  {
   "cell_type": "code",
   "execution_count": 13,
   "metadata": {
    "scrolled": true
   },
   "outputs": [
    {
     "name": "stdout",
     "output_type": "stream",
     "text": [
      "Epoch 1/1\n",
      "26/26 [==============================] - ETA: 2:26:53 - loss: 1.4678 - categorical_accuracy: 0.255 - ETA: 1:49:55 - loss: 2.7407 - categorical_accuracy: 0.233 - ETA: 1:13:57 - loss: 3.1795 - categorical_accuracy: 0.217 - ETA: 39:36 - loss: 2.9664 - categorical_accuracy: 0.2491  - ETA: 6:28 - loss: 2.8527 - categorical_accuracy: 0.256 - 12756s 491s/step - loss: 2.8555 - categorical_accuracy: 0.2502\n"
     ]
    },
    {
     "data": {
      "text/plain": [
       "<keras.callbacks.callbacks.History at 0x24b80a6e788>"
      ]
     },
     "execution_count": 13,
     "metadata": {},
     "output_type": "execute_result"
    }
   ],
   "source": [
    "## Training\n",
    "EPOCHS = 1\n",
    "model.compile(loss=LOSS,optimizer=OPTIMIZER, metrics=METRICS)\n",
    "\n",
    "model.fit(train_nii,train_labels,epochs=EPOCHS,batch_size=BATCH_SIZE)"
   ]
  },
  {
   "cell_type": "code",
   "execution_count": 16,
   "metadata": {},
   "outputs": [
    {
     "name": "stdout",
     "output_type": "stream",
     "text": [
      "9/9 [==============================] - ETA: 54 - ETA: 10 - 121s 13s/step\n",
      "sucess\n",
      "[2.090882592731052, 0.2172233611345291]\n"
     ]
    }
   ],
   "source": [
    "#Evaulation\n",
    "score = model.evaluate(test_nii,test_labels,verbose=1, batch_size=4)\n",
    "print(score)"
   ]
  },
  {
   "cell_type": "markdown",
   "metadata": {},
   "source": [
    "### HyperParameter Tuning\n",
    "\n",
    "To find optimal hyperparameters, we used a naive grid search method, combining all of the following options:\n",
    "\n",
    "**Epochs**- [4,8,12,16] <br>\n",
    "**Batch Size** - [5,10] <br>\n",
    "**Dropout** - [.08,.15,.25,.40] <br>\n",
    "**Number of Buckets**- [2,4,10] <br>\n",
    "\n",
    "The optimal combination we found is: <br>\n",
    "**Epochs**: 4 <br>\n",
    "**Batch Size**: 5 <br>\n",
    "**Dropout**: .15 <br>\n",
    "**Number of Buckets**: 2 <br> \n",
    "\n",
    "We found the model has major issues overfitting, so less epochs performed better.\n",
    "\n",
    "We also found less buckets made the model more accurate, which intiutively makes sense becuase it has a much larger range of error with one bucket instead of two.\n",
    "\n",
    "### Best Results\n",
    "+ 88% Accuracy with 2 Buckets\n",
    "+ 32% Accuracy with 4 Buckets\n",
    "\n"
   ]
  },
  {
   "cell_type": "markdown",
   "metadata": {},
   "source": [
    "# Conclusion\n",
    "\n",
    "Our project was a failure. We didnt achieve high accuracy and it doesn't seem like our model learned anything about the human brain. That doesn't mean that we did not learn a lot. Analyzing why it didn't work has been a huge learning experience for us and will help us on future projects. Here is an non-exasutive list of things that went wrong.\n",
    "\n",
    "+ **Lack of Domain Knowledge in Preprocessing:** We had no domain knowledge in the field of fMRI, so we blindly used the niLearn preprocessing with little understanding of the methods behind it.\n",
    "<br><br>\n",
    "+ **Too Many Features and Too Little Data:** Our feature space was over 250,000 features, far too many for any predictive model, even with an massive dataset. Our model could never hope to accurately use them all and suffered accordingly. Even if we could have reduced the feature space, we still only had 17,325 (495 seconds X 35 people) instances in our full dataset. \n",
    "<br><br>\n",
    "+ **Oversimplification of the Human Brain:** Even if we had an incredibly powerful model, human brains are intricate and work in complex ways so trying to model it this way makes a lot of assumption. At the time of writing this, the most accurate paper (Bandettini et al)[https://www.sciencedirect.com/science/article/abs/pii/S1053811918320263] we could find has 50% accuracy with 4 buckets, showing how even the state of the art methods still struggle with modeling the human brain.\n",
    "\n",
    "\n",
    "\n",
    "## Future Steps\n",
    "\n",
    "+ **Try a CNN_LSTM** Instead of using niLearn to preprocess our data, feed the MRI data directly into a 3D Convolutional Neural Network and pass it's output into the LSTM. This will be much more challenging to train and our dataset is far too small, but could see some improvements due to the CNN's ability to capture spatial features.\n",
    "\n",
    "+ **Reduce the Feature Space using ROIs** Try only using certain parts of the brain (Regions of Interest) that are known to strongly correlate to music and or emotion to reduce the feature space to a subsection of the brain. \n"
   ]
  }
 ],
 "metadata": {
  "kernelspec": {
   "display_name": "Python 3",
   "language": "python",
   "name": "python3"
  },
  "language_info": {
   "codemirror_mode": {
    "name": "ipython",
    "version": 3
   },
   "file_extension": ".py",
   "mimetype": "text/x-python",
   "name": "python",
   "nbconvert_exporter": "python",
   "pygments_lexer": "ipython3",
   "version": "3.7.4"
  }
 },
 "nbformat": 4,
 "nbformat_minor": 2
}
