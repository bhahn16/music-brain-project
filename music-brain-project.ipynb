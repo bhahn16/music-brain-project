{
 "cells": [
  {
   "cell_type": "markdown",
   "metadata": {},
   "source": [
    "# Music Brain Project\n",
    "\n",
    "Can we guess how you will react to music?\n",
    "\n",
    "\n",
    "In the spring of 2020, me (Ted Lewitt), Ben Hahn and Jack Elliott partnered with the Brain and Creativity Institute at USC to use deep learning methods to predict patients response to instrumental music.\n",
    "\n",
    "### The Dataset\n",
    "\n",
    "36 Patients went into a MRI and listened to 5 minute long instrumental songs that were either meant to be uplifting or sad. The MRI recorded their brain activations and the patients used a sliding scale to represent how they felt while listening to the music.\n",
    "\n",
    "### Our Hypothesis\n",
    "\n",
    "We can use a recurrent nueral network to predict how a patient felt at a moment in time, based off the MRI data from that moment. \n"
   ]
  },
  {
   "cell_type": "code",
   "execution_count": null,
   "metadata": {},
   "outputs": [],
   "source": [
    "import pandas as pd\n",
    "import numpy as np\n",
    "import nibabel as nib\n",
    "import helperFunctions as hf\n",
    "import keras\n",
    "from keras.models import Sequential\n",
    "from keras.layers import Activation,Dense\n",
    "from keras.layers.recurrent import LSTM\n",
    "import nilearn\n",
    "import os\n",
    "from sklearn.model_selection import train_test_split\n",
    "from sklearn import preprocessing"
   ]
  },
  {
   "cell_type": "markdown",
   "metadata": {},
   "source": [
    "## Preprocessing\n",
    "\n",
    "**DATA TYPES**\n",
    "The MRI data was actually a fMRI, so it was a series of MRI data, which itself was a 3D volumetric matrix of brain activations.\n",
    "The slider data was a text file with timestamps and activations, on a scale of 0 to 127, with 127 being very happy and 0 being very sad.\n",
    "\n",
    "### Preprocessing the Slider Data\n",
    "The fMRI data was at 1 Hz but the slider data was at 30 Hz, so we had to down-sample the data.\n",
    "We used the average of the 30 measurements taken as the measurement for the one second.\n",
    "We also scaled the slider data to be on a scale of 0,1.\n",
    "\n",
    "**Bucketing the Data & Switching to Classification**\n",
    "We were having issues with regressing the data (see our conculsions section for more info) so we decided to switch to a classsification problem, transforming our slider data from a scalar to a class, either Happy or Sad.\n",
    "\n",
    "### Preprocessing the MRI Data\n",
    "We used the niLearn package to transform our 4D fMRI (time steps, 3 spatial dimensions) to a 2D time series (time steps,\n",
    "features). The initial shape of the input tensor was (495,100,90,100) and we wanted it to be (495,#Features) so it could be fed into our Tensorflow LSTM.\n",
    "NiLearn has a class called NiftiMasker that does exactly that, transforming our data into an (495,250000) shaped time series. (This number of features is incedibly high we know, see our conclusions for more).\n"
   ]
  },
  {
   "cell_type": "code",
   "execution_count": null,
   "metadata": {},
   "outputs": [],
   "source": [
    "NUM_BUCKETS = 2 # or 4\n",
    "def preprocess_slider_data(data_file):\n",
    "    data = load_data()\n",
    "    down_sampled_data = down_sample(data)\n",
    "    bucket_data = bucket(data,NUM_BUCKETS)\n",
    "    return bucket_data\n",
    "def load_data(file):\n",
    "def down_sample(array,NUM_BUCKETS):"
   ]
  },
  {
   "cell_type": "code",
   "execution_count": null,
   "metadata": {},
   "outputs": [],
   "source": [
    "txt_files_dir = \"\"\n",
    "mri_files_dir = \"\"\n",
    "\n",
    "for count in range(1,40):\n",
    "    gotlabel=False\n",
    "    gotnii=False\n",
    "    if count<10:\n",
    "        count=str(0)+str(count)\n",
    "    \n",
    "    #First we preprocess the nii file\n",
    "    niifile=\"sub-\"+str(count)+\"_sadln_filtered_func_200hpf_standard_aroma.nii\"\n",
    "    else:\n",
    "        fullNii=os.path.join(DATA_PATH_FOR_NII,niifile)\n",
    "        if os.path.isfile(fullNii):\n",
    "            nii,sizeValue=hf.niiToTS(fullNii)\n",
    "            #nii=preprocessing.scale(nii)\n",
    "            gotnii=True\n",
    "            \n",
    "    #Next up is the corresponding label data\n",
    "        labelfile=\"sub-\"+str(count)+\"_snl_l_enjoy_log.txt\"\n",
    "        fullfile=os.path.join(DATA_PATH_FOR_LABELS,labelfile)\n",
    "        if os.path.isfile(fullfile):        \n",
    "            label=np.array(hf.sliderPre(fullfile,3))\n",
    "            gotlabel=True \n",
    "            \n",
    "    if gotlabel and gotnii:\n",
    "        nii_array.append(nii)\n",
    "        label_array.append(label)\n",
    "\n",
    "nii_array=np.array(nii_array)\n",
    "label_array=np.array(label_array)\n",
    "    "
   ]
  },
  {
   "cell_type": "markdown",
   "metadata": {},
   "source": [
    "# Conclusion\n",
    "\n",
    "Why it didnt work-> far too many features, poor understanding of what the nilearn was doing, no domain knowledge\n",
    "\n",
    "## Future Steps\n",
    "\n",
    "Use a CNN-LSTM"
   ]
  }
 ],
 "metadata": {
  "kernelspec": {
   "display_name": "Python 3",
   "language": "python",
   "name": "python3"
  },
  "language_info": {
   "codemirror_mode": {
    "name": "ipython",
    "version": 3
   },
   "file_extension": ".py",
   "mimetype": "text/x-python",
   "name": "python",
   "nbconvert_exporter": "python",
   "pygments_lexer": "ipython3",
   "version": "3.7.4"
  }
 },
 "nbformat": 4,
 "nbformat_minor": 2
}
